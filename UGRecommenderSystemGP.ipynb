{
 "cells": [
  {
   "cell_type": "markdown",
   "metadata": {},
   "source": [
    "## Import libraries"
   ]
  },
  {
   "cell_type": "code",
   "execution_count": 1,
   "metadata": {},
   "outputs": [],
   "source": [
    "import pandas as pd\n",
    "import numpy as np\n",
    "from statistics import variance\n",
    "import requests\n",
    "from sklearn.model_selection import train_test_split"
   ]
  },
  {
   "cell_type": "markdown",
   "metadata": {},
   "source": [
    "## Reading the CSV file"
   ]
  },
  {
   "cell_type": "code",
   "execution_count": 2,
   "metadata": {},
   "outputs": [
    {
     "name": "stdout",
     "output_type": "stream",
     "text": [
      "544\n"
     ]
    },
    {
     "data": {
      "text/html": [
       "<div>\n",
       "<style scoped>\n",
       "    .dataframe tbody tr th:only-of-type {\n",
       "        vertical-align: middle;\n",
       "    }\n",
       "\n",
       "    .dataframe tbody tr th {\n",
       "        vertical-align: top;\n",
       "    }\n",
       "\n",
       "    .dataframe thead th {\n",
       "        text-align: right;\n",
       "    }\n",
       "</style>\n",
       "<table border=\"1\" class=\"dataframe\">\n",
       "  <thead>\n",
       "    <tr style=\"text-align: right;\">\n",
       "      <th></th>\n",
       "      <th>Unnamed: 0</th>\n",
       "      <th>product_name</th>\n",
       "      <th>allergies</th>\n",
       "      <th>p_price</th>\n",
       "      <th>verifications</th>\n",
       "      <th>rating</th>\n",
       "      <th>n_rating</th>\n",
       "    </tr>\n",
       "  </thead>\n",
       "  <tbody>\n",
       "    <tr>\n",
       "      <th>0</th>\n",
       "      <td>0</td>\n",
       "      <td>AH Tomatenblokjes gesneden</td>\n",
       "      <td>[]</td>\n",
       "      <td>0.55</td>\n",
       "      <td>1823</td>\n",
       "      <td>0.635412</td>\n",
       "      <td>486</td>\n",
       "    </tr>\n",
       "    <tr>\n",
       "      <th>1</th>\n",
       "      <td>1</td>\n",
       "      <td>AH Tomatenpuree</td>\n",
       "      <td>[]</td>\n",
       "      <td>0.35</td>\n",
       "      <td>449</td>\n",
       "      <td>1.038130</td>\n",
       "      <td>701</td>\n",
       "    </tr>\n",
       "    <tr>\n",
       "      <th>2</th>\n",
       "      <td>2</td>\n",
       "      <td>AH Zonnebloemolie</td>\n",
       "      <td>[]</td>\n",
       "      <td>2.99</td>\n",
       "      <td>1279</td>\n",
       "      <td>0.416256</td>\n",
       "      <td>638</td>\n",
       "    </tr>\n",
       "    <tr>\n",
       "      <th>3</th>\n",
       "      <td>3</td>\n",
       "      <td>AH Tomatenblokjes gesneden 4-pack</td>\n",
       "      <td>[]</td>\n",
       "      <td>NaN</td>\n",
       "      <td>536</td>\n",
       "      <td>0.808832</td>\n",
       "      <td>71</td>\n",
       "    </tr>\n",
       "    <tr>\n",
       "      <th>4</th>\n",
       "      <td>4</td>\n",
       "      <td>AH Tarwe bloem</td>\n",
       "      <td>[]</td>\n",
       "      <td>0.65</td>\n",
       "      <td>804</td>\n",
       "      <td>3.078208</td>\n",
       "      <td>836</td>\n",
       "    </tr>\n",
       "  </tbody>\n",
       "</table>\n",
       "</div>"
      ],
      "text/plain": [
       "   Unnamed: 0                       product_name allergies  p_price  \\\n",
       "0           0         AH Tomatenblokjes gesneden        []     0.55   \n",
       "1           1                    AH Tomatenpuree        []     0.35   \n",
       "2           2                  AH Zonnebloemolie        []     2.99   \n",
       "3           3  AH Tomatenblokjes gesneden 4-pack        []      NaN   \n",
       "4           4                     AH Tarwe bloem        []     0.65   \n",
       "\n",
       "   verifications    rating  n_rating  \n",
       "0           1823  0.635412       486  \n",
       "1            449  1.038130       701  \n",
       "2           1279  0.416256       638  \n",
       "3            536  0.808832        71  \n",
       "4            804  3.078208       836  "
      ]
     },
     "execution_count": 2,
     "metadata": {},
     "output_type": "execute_result"
    }
   ],
   "source": [
    "df = pd.read_csv('DataGP1.csv')\n",
    "print(len(df),)\n",
    "df.head()"
   ]
  },
  {
   "cell_type": "markdown",
   "metadata": {},
   "source": [
    "# Cleaning the Dataset"
   ]
  },
  {
   "cell_type": "code",
   "execution_count": 3,
   "metadata": {
    "scrolled": true
   },
   "outputs": [
    {
     "data": {
      "text/html": [
       "<div>\n",
       "<style scoped>\n",
       "    .dataframe tbody tr th:only-of-type {\n",
       "        vertical-align: middle;\n",
       "    }\n",
       "\n",
       "    .dataframe tbody tr th {\n",
       "        vertical-align: top;\n",
       "    }\n",
       "\n",
       "    .dataframe thead th {\n",
       "        text-align: right;\n",
       "    }\n",
       "</style>\n",
       "<table border=\"1\" class=\"dataframe\">\n",
       "  <thead>\n",
       "    <tr style=\"text-align: right;\">\n",
       "      <th></th>\n",
       "      <th>product_name</th>\n",
       "      <th>allergies</th>\n",
       "      <th>p_price</th>\n",
       "      <th>verifications</th>\n",
       "      <th>rating</th>\n",
       "      <th>n_rating</th>\n",
       "    </tr>\n",
       "  </thead>\n",
       "  <tbody>\n",
       "    <tr>\n",
       "      <th>0</th>\n",
       "      <td>AH Tomatenblokjes gesneden</td>\n",
       "      <td>[]</td>\n",
       "      <td>0.55</td>\n",
       "      <td>1823</td>\n",
       "      <td>0.635412</td>\n",
       "      <td>486</td>\n",
       "    </tr>\n",
       "    <tr>\n",
       "      <th>1</th>\n",
       "      <td>AH Tomatenpuree</td>\n",
       "      <td>[]</td>\n",
       "      <td>0.35</td>\n",
       "      <td>449</td>\n",
       "      <td>1.038130</td>\n",
       "      <td>701</td>\n",
       "    </tr>\n",
       "    <tr>\n",
       "      <th>2</th>\n",
       "      <td>AH Zonnebloemolie</td>\n",
       "      <td>[]</td>\n",
       "      <td>2.99</td>\n",
       "      <td>1279</td>\n",
       "      <td>0.416256</td>\n",
       "      <td>638</td>\n",
       "    </tr>\n",
       "    <tr>\n",
       "      <th>3</th>\n",
       "      <td>AH Tomatenblokjes gesneden 4-pack</td>\n",
       "      <td>[]</td>\n",
       "      <td>NaN</td>\n",
       "      <td>536</td>\n",
       "      <td>0.808832</td>\n",
       "      <td>71</td>\n",
       "    </tr>\n",
       "    <tr>\n",
       "      <th>4</th>\n",
       "      <td>AH Tarwe bloem</td>\n",
       "      <td>[]</td>\n",
       "      <td>0.65</td>\n",
       "      <td>804</td>\n",
       "      <td>3.078208</td>\n",
       "      <td>836</td>\n",
       "    </tr>\n",
       "  </tbody>\n",
       "</table>\n",
       "</div>"
      ],
      "text/plain": [
       "                        product_name allergies  p_price  verifications  \\\n",
       "0         AH Tomatenblokjes gesneden        []     0.55           1823   \n",
       "1                    AH Tomatenpuree        []     0.35            449   \n",
       "2                  AH Zonnebloemolie        []     2.99           1279   \n",
       "3  AH Tomatenblokjes gesneden 4-pack        []      NaN            536   \n",
       "4                     AH Tarwe bloem        []     0.65            804   \n",
       "\n",
       "     rating  n_rating  \n",
       "0  0.635412       486  \n",
       "1  1.038130       701  \n",
       "2  0.416256       638  \n",
       "3  0.808832        71  \n",
       "4  3.078208       836  "
      ]
     },
     "execution_count": 3,
     "metadata": {},
     "output_type": "execute_result"
    }
   ],
   "source": [
    "df.drop(['Unnamed: 0'], axis=1, inplace=True)\n",
    "df.head()"
   ]
  },
  {
   "cell_type": "code",
   "execution_count": 4,
   "metadata": {},
   "outputs": [],
   "source": [
    "df = df.dropna()"
   ]
  },
  {
   "cell_type": "code",
   "execution_count": 5,
   "metadata": {},
   "outputs": [
    {
     "data": {
      "text/html": [
       "<div>\n",
       "<style scoped>\n",
       "    .dataframe tbody tr th:only-of-type {\n",
       "        vertical-align: middle;\n",
       "    }\n",
       "\n",
       "    .dataframe tbody tr th {\n",
       "        vertical-align: top;\n",
       "    }\n",
       "\n",
       "    .dataframe thead th {\n",
       "        text-align: right;\n",
       "    }\n",
       "</style>\n",
       "<table border=\"1\" class=\"dataframe\">\n",
       "  <thead>\n",
       "    <tr style=\"text-align: right;\">\n",
       "      <th></th>\n",
       "      <th>product_name</th>\n",
       "      <th>allergies</th>\n",
       "      <th>p_price</th>\n",
       "      <th>verifications</th>\n",
       "      <th>rating</th>\n",
       "      <th>n_rating</th>\n",
       "    </tr>\n",
       "  </thead>\n",
       "  <tbody>\n",
       "    <tr>\n",
       "      <th>0</th>\n",
       "      <td>AH Tomatenblokjes gesneden</td>\n",
       "      <td>[]</td>\n",
       "      <td>0.55</td>\n",
       "      <td>1823</td>\n",
       "      <td>0.635412</td>\n",
       "      <td>486</td>\n",
       "    </tr>\n",
       "    <tr>\n",
       "      <th>1</th>\n",
       "      <td>AH Tomatenpuree</td>\n",
       "      <td>[]</td>\n",
       "      <td>0.35</td>\n",
       "      <td>449</td>\n",
       "      <td>1.038130</td>\n",
       "      <td>701</td>\n",
       "    </tr>\n",
       "    <tr>\n",
       "      <th>2</th>\n",
       "      <td>AH Zonnebloemolie</td>\n",
       "      <td>[]</td>\n",
       "      <td>2.99</td>\n",
       "      <td>1279</td>\n",
       "      <td>0.416256</td>\n",
       "      <td>638</td>\n",
       "    </tr>\n",
       "    <tr>\n",
       "      <th>4</th>\n",
       "      <td>AH Tarwe bloem</td>\n",
       "      <td>[]</td>\n",
       "      <td>0.65</td>\n",
       "      <td>804</td>\n",
       "      <td>3.078208</td>\n",
       "      <td>836</td>\n",
       "    </tr>\n",
       "    <tr>\n",
       "      <th>6</th>\n",
       "      <td>AH Tomatenpuree</td>\n",
       "      <td>[]</td>\n",
       "      <td>0.49</td>\n",
       "      <td>1864</td>\n",
       "      <td>4.101798</td>\n",
       "      <td>243</td>\n",
       "    </tr>\n",
       "  </tbody>\n",
       "</table>\n",
       "</div>"
      ],
      "text/plain": [
       "                 product_name allergies  p_price  verifications    rating  \\\n",
       "0  AH Tomatenblokjes gesneden        []     0.55           1823  0.635412   \n",
       "1             AH Tomatenpuree        []     0.35            449  1.038130   \n",
       "2           AH Zonnebloemolie        []     2.99           1279  0.416256   \n",
       "4              AH Tarwe bloem        []     0.65            804  3.078208   \n",
       "6             AH Tomatenpuree        []     0.49           1864  4.101798   \n",
       "\n",
       "   n_rating  \n",
       "0       486  \n",
       "1       701  \n",
       "2       638  \n",
       "4       836  \n",
       "6       243  "
      ]
     },
     "execution_count": 5,
     "metadata": {},
     "output_type": "execute_result"
    }
   ],
   "source": [
    "df['rating'].round(decimals=2)\n",
    "df.head(5)"
   ]
  },
  {
   "cell_type": "code",
   "execution_count": 6,
   "metadata": {},
   "outputs": [
    {
     "data": {
      "text/html": [
       "<div>\n",
       "<style scoped>\n",
       "    .dataframe tbody tr th:only-of-type {\n",
       "        vertical-align: middle;\n",
       "    }\n",
       "\n",
       "    .dataframe tbody tr th {\n",
       "        vertical-align: top;\n",
       "    }\n",
       "\n",
       "    .dataframe thead th {\n",
       "        text-align: right;\n",
       "    }\n",
       "</style>\n",
       "<table border=\"1\" class=\"dataframe\">\n",
       "  <thead>\n",
       "    <tr style=\"text-align: right;\">\n",
       "      <th></th>\n",
       "      <th>product_name</th>\n",
       "      <th>allergies</th>\n",
       "      <th>p_price</th>\n",
       "      <th>verifications</th>\n",
       "      <th>rating</th>\n",
       "      <th>n_rating</th>\n",
       "      <th>containsgluten</th>\n",
       "    </tr>\n",
       "  </thead>\n",
       "  <tbody>\n",
       "    <tr>\n",
       "      <th>0</th>\n",
       "      <td>AH Tomatenblokjes gesneden</td>\n",
       "      <td>[]</td>\n",
       "      <td>0.55</td>\n",
       "      <td>1823</td>\n",
       "      <td>0.635412</td>\n",
       "      <td>486</td>\n",
       "      <td>False</td>\n",
       "    </tr>\n",
       "    <tr>\n",
       "      <th>1</th>\n",
       "      <td>AH Tomatenpuree</td>\n",
       "      <td>[]</td>\n",
       "      <td>0.35</td>\n",
       "      <td>449</td>\n",
       "      <td>1.038130</td>\n",
       "      <td>701</td>\n",
       "      <td>False</td>\n",
       "    </tr>\n",
       "    <tr>\n",
       "      <th>2</th>\n",
       "      <td>AH Zonnebloemolie</td>\n",
       "      <td>[]</td>\n",
       "      <td>2.99</td>\n",
       "      <td>1279</td>\n",
       "      <td>0.416256</td>\n",
       "      <td>638</td>\n",
       "      <td>False</td>\n",
       "    </tr>\n",
       "    <tr>\n",
       "      <th>4</th>\n",
       "      <td>AH Tarwe bloem</td>\n",
       "      <td>[]</td>\n",
       "      <td>0.65</td>\n",
       "      <td>804</td>\n",
       "      <td>3.078208</td>\n",
       "      <td>836</td>\n",
       "      <td>False</td>\n",
       "    </tr>\n",
       "    <tr>\n",
       "      <th>6</th>\n",
       "      <td>AH Tomatenpuree</td>\n",
       "      <td>[]</td>\n",
       "      <td>0.49</td>\n",
       "      <td>1864</td>\n",
       "      <td>4.101798</td>\n",
       "      <td>243</td>\n",
       "      <td>False</td>\n",
       "    </tr>\n",
       "    <tr>\n",
       "      <th>7</th>\n",
       "      <td>AH Kristalsuiker</td>\n",
       "      <td>[]</td>\n",
       "      <td>0.65</td>\n",
       "      <td>1992</td>\n",
       "      <td>1.593696</td>\n",
       "      <td>16</td>\n",
       "      <td>False</td>\n",
       "    </tr>\n",
       "    <tr>\n",
       "      <th>8</th>\n",
       "      <td>AH Tomaten gezeefd passata</td>\n",
       "      <td>[]</td>\n",
       "      <td>0.59</td>\n",
       "      <td>1760</td>\n",
       "      <td>2.580782</td>\n",
       "      <td>589</td>\n",
       "      <td>False</td>\n",
       "    </tr>\n",
       "    <tr>\n",
       "      <th>9</th>\n",
       "      <td>AH Tortilla naturel wraps</td>\n",
       "      <td>[]</td>\n",
       "      <td>0.92</td>\n",
       "      <td>174</td>\n",
       "      <td>1.863368</td>\n",
       "      <td>184</td>\n",
       "      <td>False</td>\n",
       "    </tr>\n",
       "    <tr>\n",
       "      <th>10</th>\n",
       "      <td>Yum Yum Chicken flavour instant noodles</td>\n",
       "      <td>[]</td>\n",
       "      <td>0.55</td>\n",
       "      <td>1846</td>\n",
       "      <td>4.753379</td>\n",
       "      <td>57</td>\n",
       "      <td>False</td>\n",
       "    </tr>\n",
       "    <tr>\n",
       "      <th>11</th>\n",
       "      <td>AH Rinse appelstroop</td>\n",
       "      <td>[]</td>\n",
       "      <td>0.79</td>\n",
       "      <td>1574</td>\n",
       "      <td>1.956899</td>\n",
       "      <td>272</td>\n",
       "      <td>False</td>\n",
       "    </tr>\n",
       "    <tr>\n",
       "      <th>12</th>\n",
       "      <td>AH Kokosmelk</td>\n",
       "      <td>[]</td>\n",
       "      <td>0.99</td>\n",
       "      <td>1058</td>\n",
       "      <td>1.359823</td>\n",
       "      <td>782</td>\n",
       "      <td>False</td>\n",
       "    </tr>\n",
       "    <tr>\n",
       "      <th>13</th>\n",
       "      <td>Unox Good noodles kip</td>\n",
       "      <td>[]</td>\n",
       "      <td>0.65</td>\n",
       "      <td>1249</td>\n",
       "      <td>1.855473</td>\n",
       "      <td>887</td>\n",
       "      <td>False</td>\n",
       "    </tr>\n",
       "    <tr>\n",
       "      <th>14</th>\n",
       "      <td>AH Groene pesto</td>\n",
       "      <td>[]</td>\n",
       "      <td>3.00</td>\n",
       "      <td>915</td>\n",
       "      <td>0.508617</td>\n",
       "      <td>826</td>\n",
       "      <td>False</td>\n",
       "    </tr>\n",
       "    <tr>\n",
       "      <th>15</th>\n",
       "      <td>Heinz Tomato Frito</td>\n",
       "      <td>[]</td>\n",
       "      <td>0.89</td>\n",
       "      <td>1250</td>\n",
       "      <td>0.836266</td>\n",
       "      <td>296</td>\n",
       "      <td>False</td>\n",
       "    </tr>\n",
       "    <tr>\n",
       "      <th>17</th>\n",
       "      <td>AH Tortilla chips naturel</td>\n",
       "      <td>[]</td>\n",
       "      <td>0.66</td>\n",
       "      <td>1876</td>\n",
       "      <td>3.769966</td>\n",
       "      <td>518</td>\n",
       "      <td>False</td>\n",
       "    </tr>\n",
       "    <tr>\n",
       "      <th>18</th>\n",
       "      <td>AH Zilvervlies rijst</td>\n",
       "      <td>[]</td>\n",
       "      <td>0.89</td>\n",
       "      <td>929</td>\n",
       "      <td>3.935063</td>\n",
       "      <td>424</td>\n",
       "      <td>False</td>\n",
       "    </tr>\n",
       "    <tr>\n",
       "      <th>19</th>\n",
       "      <td>AH Pizzadeeg tomatensaus</td>\n",
       "      <td>['Glutenbevattende Granen, Tarwe']</td>\n",
       "      <td>1.99</td>\n",
       "      <td>369</td>\n",
       "      <td>4.668970</td>\n",
       "      <td>477</td>\n",
       "      <td>True</td>\n",
       "    </tr>\n",
       "    <tr>\n",
       "      <th>20</th>\n",
       "      <td>AH Penne</td>\n",
       "      <td>[]</td>\n",
       "      <td>0.89</td>\n",
       "      <td>282</td>\n",
       "      <td>1.476122</td>\n",
       "      <td>600</td>\n",
       "      <td>False</td>\n",
       "    </tr>\n",
       "  </tbody>\n",
       "</table>\n",
       "</div>"
      ],
      "text/plain": [
       "                               product_name  \\\n",
       "0                AH Tomatenblokjes gesneden   \n",
       "1                           AH Tomatenpuree   \n",
       "2                         AH Zonnebloemolie   \n",
       "4                            AH Tarwe bloem   \n",
       "6                           AH Tomatenpuree   \n",
       "7                          AH Kristalsuiker   \n",
       "8                AH Tomaten gezeefd passata   \n",
       "9                 AH Tortilla naturel wraps   \n",
       "10  Yum Yum Chicken flavour instant noodles   \n",
       "11                     AH Rinse appelstroop   \n",
       "12                             AH Kokosmelk   \n",
       "13                    Unox Good noodles kip   \n",
       "14                          AH Groene pesto   \n",
       "15                       Heinz Tomato Frito   \n",
       "17                AH Tortilla chips naturel   \n",
       "18                     AH Zilvervlies rijst   \n",
       "19                 AH Pizzadeeg tomatensaus   \n",
       "20                                 AH Penne   \n",
       "\n",
       "                             allergies  p_price  verifications    rating  \\\n",
       "0                                   []     0.55           1823  0.635412   \n",
       "1                                   []     0.35            449  1.038130   \n",
       "2                                   []     2.99           1279  0.416256   \n",
       "4                                   []     0.65            804  3.078208   \n",
       "6                                   []     0.49           1864  4.101798   \n",
       "7                                   []     0.65           1992  1.593696   \n",
       "8                                   []     0.59           1760  2.580782   \n",
       "9                                   []     0.92            174  1.863368   \n",
       "10                                  []     0.55           1846  4.753379   \n",
       "11                                  []     0.79           1574  1.956899   \n",
       "12                                  []     0.99           1058  1.359823   \n",
       "13                                  []     0.65           1249  1.855473   \n",
       "14                                  []     3.00            915  0.508617   \n",
       "15                                  []     0.89           1250  0.836266   \n",
       "17                                  []     0.66           1876  3.769966   \n",
       "18                                  []     0.89            929  3.935063   \n",
       "19  ['Glutenbevattende Granen, Tarwe']     1.99            369  4.668970   \n",
       "20                                  []     0.89            282  1.476122   \n",
       "\n",
       "    n_rating  containsgluten  \n",
       "0        486           False  \n",
       "1        701           False  \n",
       "2        638           False  \n",
       "4        836           False  \n",
       "6        243           False  \n",
       "7         16           False  \n",
       "8        589           False  \n",
       "9        184           False  \n",
       "10        57           False  \n",
       "11       272           False  \n",
       "12       782           False  \n",
       "13       887           False  \n",
       "14       826           False  \n",
       "15       296           False  \n",
       "17       518           False  \n",
       "18       424           False  \n",
       "19       477            True  \n",
       "20       600           False  "
      ]
     },
     "execution_count": 6,
     "metadata": {},
     "output_type": "execute_result"
    }
   ],
   "source": [
    "df['containsgluten'] = np.where(df['allergies']!= '[]', True, False)\n",
    "df.head(18)"
   ]
  },
  {
   "cell_type": "markdown",
   "metadata": {},
   "source": [
    "# Developing the k-NN algorithm"
   ]
  },
  {
   "cell_type": "markdown",
   "metadata": {},
   "source": [
    "# Iteration 2"
   ]
  },
  {
   "cell_type": "markdown",
   "metadata": {},
   "source": [
    "## First attempt: failed.\n",
    "The k-NN score is 0.0, which means that the algorithm cannot find any 'neighbors'."
   ]
  },
  {
   "cell_type": "code",
   "execution_count": 7,
   "metadata": {},
   "outputs": [],
   "source": [
    "variable_list = ['p_price', 'verifications', 'rating', 'n_rating']"
   ]
  },
  {
   "cell_type": "code",
   "execution_count": 8,
   "metadata": {},
   "outputs": [],
   "source": [
    "from sklearn.preprocessing import normalize\n",
    "X = df[variable_list]\n",
    "X = normalize(X)\n",
    "y = df['product_name']\n",
    "X_train, X_test, y_train, y_test = train_test_split(X, y, test_size=0.3, random_state=1)"
   ]
  },
  {
   "cell_type": "code",
   "execution_count": 9,
   "metadata": {},
   "outputs": [
    {
     "data": {
      "text/plain": [
       "0.0"
      ]
     },
     "execution_count": 9,
     "metadata": {},
     "output_type": "execute_result"
    }
   ],
   "source": [
    "from sklearn.neighbors import KNeighborsClassifier\n",
    "knn = KNeighborsClassifier(n_neighbors=5) #here I am creating a k-NN classifier, using 5 neigbors. This is a default setting.\n",
    "knn = knn.fit(X_train, y_train) \n",
    "knn.score(X_test, y_test) #here I am calculating the fit that was made on the test data"
   ]
  },
  {
   "cell_type": "code",
   "execution_count": 10,
   "metadata": {},
   "outputs": [
    {
     "data": {
      "text/plain": [
       "(524, 7)"
      ]
     },
     "execution_count": 10,
     "metadata": {},
     "output_type": "execute_result"
    }
   ],
   "source": [
    "# Take 1 % data as sample - ik snap niet hoe ik dit met de hele dataset kan proberen\n",
    "# Had er zelf 0.99 van gemaakt\n",
    "rec_sample = df.sample(frac=.99, random_state=1) \n",
    "\n",
    "# Shape of the sample data\n",
    "df.shape"
   ]
  },
  {
   "cell_type": "markdown",
   "metadata": {},
   "source": [
    "## Second attempt:\n",
    "Trying with one variable."
   ]
  },
  {
   "cell_type": "code",
   "execution_count": 11,
   "metadata": {},
   "outputs": [],
   "source": [
    "# # Create Item-user matrix using pivot_table()\n",
    "# rec_pivot = rec_sample.pivot_table(index='product_name', values='rating').fillna(0)\n",
    "\n",
    "# # Show top-5 records\n",
    "# rec_pivot.head()"
   ]
  },
  {
   "cell_type": "code",
   "execution_count": 12,
   "metadata": {
    "scrolled": true
   },
   "outputs": [],
   "source": [
    "# from sklearn.neighbors import NearestNeighbors\n",
    "# # Build NearestNeighbors Object\n",
    "# model_nn = NearestNeighbors(metric='cosine', algorithm='brute', n_neighbors=7, n_jobs=-1)\n",
    "\n",
    "# # Fit the NearestNeighbor\n",
    "# model_nn.fit(rec_pivot)"
   ]
  },
  {
   "cell_type": "code",
   "execution_count": 13,
   "metadata": {},
   "outputs": [],
   "source": [
    "# # Get top 3 nearest neighbors \n",
    "# indices=model_nn.kneighbors(rec_pivot.loc[['AH Olijfolie']], 3, return_distance=False)\n",
    "\n",
    "# # Print the recommended products\n",
    "# print(\"Recommended product:\")\n",
    "# print(\"-------------------\")\n",
    "# for index, value in enumerate(rec_pivot.index[indices][0]):\n",
    "#     print((index+1),\". \",value)"
   ]
  },
  {
   "cell_type": "markdown",
   "metadata": {},
   "source": [
    "## Second attempt: trying with multiple variable: partially succeeded.\n",
    "The algorithm provides recommendations! However, they were not very accurate. Most importantly, the recommendations provided contain gluten. In addition, the product that is scanned, is in the recommendations. Moreover, the recommendations are very random. "
   ]
  },
  {
   "cell_type": "code",
   "execution_count": 14,
   "metadata": {},
   "outputs": [
    {
     "data": {
      "text/html": [
       "<div>\n",
       "<style scoped>\n",
       "    .dataframe tbody tr th:only-of-type {\n",
       "        vertical-align: middle;\n",
       "    }\n",
       "\n",
       "    .dataframe tbody tr th {\n",
       "        vertical-align: top;\n",
       "    }\n",
       "\n",
       "    .dataframe thead th {\n",
       "        text-align: right;\n",
       "    }\n",
       "</style>\n",
       "<table border=\"1\" class=\"dataframe\">\n",
       "  <thead>\n",
       "    <tr style=\"text-align: right;\">\n",
       "      <th></th>\n",
       "      <th>n_rating</th>\n",
       "      <th>p_price</th>\n",
       "      <th>rating</th>\n",
       "      <th>verifications</th>\n",
       "    </tr>\n",
       "    <tr>\n",
       "      <th>product_name</th>\n",
       "      <th></th>\n",
       "      <th></th>\n",
       "      <th></th>\n",
       "      <th></th>\n",
       "    </tr>\n",
       "  </thead>\n",
       "  <tbody>\n",
       "    <tr>\n",
       "      <th>AH Aardappelpuree</th>\n",
       "      <td>421.0</td>\n",
       "      <td>1.89</td>\n",
       "      <td>4.326369</td>\n",
       "      <td>1363.0</td>\n",
       "    </tr>\n",
       "    <tr>\n",
       "      <th>AH Amandelschaafsel</th>\n",
       "      <td>716.0</td>\n",
       "      <td>1.99</td>\n",
       "      <td>2.772950</td>\n",
       "      <td>2061.0</td>\n",
       "    </tr>\n",
       "    <tr>\n",
       "      <th>AH Basis pastasaus basillicum</th>\n",
       "      <td>978.0</td>\n",
       "      <td>1.09</td>\n",
       "      <td>0.386450</td>\n",
       "      <td>1653.0</td>\n",
       "    </tr>\n",
       "    <tr>\n",
       "      <th>AH Basmati rijst</th>\n",
       "      <td>10.0</td>\n",
       "      <td>2.59</td>\n",
       "      <td>0.717909</td>\n",
       "      <td>2033.0</td>\n",
       "    </tr>\n",
       "    <tr>\n",
       "      <th>AH Basmatirijst</th>\n",
       "      <td>550.0</td>\n",
       "      <td>1.99</td>\n",
       "      <td>3.625458</td>\n",
       "      <td>397.0</td>\n",
       "    </tr>\n",
       "  </tbody>\n",
       "</table>\n",
       "</div>"
      ],
      "text/plain": [
       "                               n_rating  p_price    rating  verifications\n",
       "product_name                                                             \n",
       "AH Aardappelpuree                 421.0     1.89  4.326369         1363.0\n",
       "AH Amandelschaafsel               716.0     1.99  2.772950         2061.0\n",
       "AH Basis pastasaus basillicum     978.0     1.09  0.386450         1653.0\n",
       "AH Basmati rijst                   10.0     2.59  0.717909         2033.0\n",
       "AH Basmatirijst                   550.0     1.99  3.625458          397.0"
      ]
     },
     "execution_count": 14,
     "metadata": {},
     "output_type": "execute_result"
    }
   ],
   "source": [
    "# Create Item-user matrix using pivot_table()\n",
    "rec_pivot = rec_sample.pivot_table(index='product_name', values=variable_list).fillna(0)\n",
    "\n",
    "# Show top-5 records\n",
    "rec_pivot.head()"
   ]
  },
  {
   "cell_type": "code",
   "execution_count": 15,
   "metadata": {},
   "outputs": [
    {
     "data": {
      "text/plain": [
       "NearestNeighbors(algorithm='brute', metric='cosine', n_jobs=-1, n_neighbors=7)"
      ]
     },
     "execution_count": 15,
     "metadata": {},
     "output_type": "execute_result"
    }
   ],
   "source": [
    "from sklearn.neighbors import NearestNeighbors\n",
    "# Build NearestNeighbors Object\n",
    "model_nn = NearestNeighbors(metric='cosine', algorithm='brute', n_neighbors=7, n_jobs=-1)\n",
    "\n",
    "# Fit the NearestNeighbor\n",
    "model_nn.fit(rec_pivot)"
   ]
  },
  {
   "cell_type": "markdown",
   "metadata": {},
   "source": [
    "#### The next cell provided recommendations:"
   ]
  },
  {
   "cell_type": "code",
   "execution_count": 24,
   "metadata": {},
   "outputs": [
    {
     "name": "stdout",
     "output_type": "stream",
     "text": [
      "Recommended product:\n",
      "1 .  AH Olijfolie\n",
      "2 .  AH Sauzen BBQ pakket\n",
      "3 .  AH Quiche Mediterrane groente\n"
     ]
    },
    {
     "name": "stderr",
     "output_type": "stream",
     "text": [
      "<ipython-input-24-3df009468771>:7: FutureWarning: Support for multi-dimensional indexing (e.g. `obj[:, None]`) is deprecated and will be removed in a future version.  Convert to a numpy array before indexing instead.\n",
      "  for index, value in enumerate(rec_pivot.index[indices][0]):\n"
     ]
    }
   ],
   "source": [
    "# # Get top 3 nearest neighbors \n",
    "# indices=model_nn.kneighbors(rec_pivot.loc[['AH Olijfolie']], 3, return_distance=False)\n",
    "\n",
    "# # Print the recommended products\n",
    "\n",
    "# print(\"Recommended product:\")\n",
    "# for index, value in enumerate(rec_pivot.index[indices][0]):\n",
    "#     print((index+1),\". \", value)"
   ]
  },
  {
   "cell_type": "markdown",
   "metadata": {},
   "source": [
    "# Iteration 3: improved in comparison to the second iteration.\n",
    "Now iteration 2 partly succeeded, I'm going to take a look at how to improve the recommendations."
   ]
  },
  {
   "cell_type": "code",
   "execution_count": 53,
   "metadata": {},
   "outputs": [
    {
     "name": "stdout",
     "output_type": "stream",
     "text": [
      "False\n"
     ]
    }
   ],
   "source": [
    "print(df.loc[df['product_name']== 'No Fairytales Bieten tortilla', 'containsgluten'].item())"
   ]
  },
  {
   "cell_type": "markdown",
   "metadata": {},
   "source": [
    "In the cell above, I tried to find out how to only get the 'containsgluten' variable. Then I used that insight to write the following cell:"
   ]
  },
  {
   "cell_type": "code",
   "execution_count": 54,
   "metadata": {},
   "outputs": [
    {
     "name": "stdout",
     "output_type": "stream",
     "text": [
      "No Fairytales Bieten tortilla\n",
      "Patak's Mini naan plain\n",
      "Lassie Basmatirijst extra vezels\n"
     ]
    },
    {
     "name": "stderr",
     "output_type": "stream",
     "text": [
      "<ipython-input-54-bf20d0ac5dd9>:11: FutureWarning: Support for multi-dimensional indexing (e.g. `obj[:, None]`) is deprecated and will be removed in a future version.  Convert to a numpy array before indexing instead.\n",
      "  for index, value in enumerate(rec_pivot.index[indices][0]):\n"
     ]
    }
   ],
   "source": [
    "empty_list = [None, None, None]\n",
    "rec_zonder_gluten = 0\n",
    "product = 'AH Macaroni'\n",
    "numberofproducts = 3\n",
    "\n",
    "indices=model_nn.kneighbors(rec_pivot.loc[[product]], 20, return_distance=False)\n",
    "\n",
    "if df.loc[df['product_name'] == product,'containsgluten'].item() == False:\n",
    "    print('This product is gluten-free!')\n",
    "else: \n",
    "    for index, value in enumerate(rec_pivot.index[indices][0]):\n",
    "        if df.loc[df['product_name'] == value,'containsgluten'].item() == False:\n",
    "            print(value)\n",
    "            empty_list[rec_zonder_gluten] = value\n",
    "            rec_zonder_gluten += 1\n",
    "            if rec_zonder_gluten == numberofproducts:\n",
    "                break"
   ]
  },
  {
   "cell_type": "markdown",
   "metadata": {},
   "source": [
    "In line 3 you can insert a product out of the CSV file and it will give three recommendations that are gluten-free."
   ]
  },
  {
   "cell_type": "markdown",
   "metadata": {},
   "source": [
    "### How iteration 3 improved:\n",
    "(1) Most importantly: the recommendations provided do not contain gluten. (2) When a product does not contain gluten, it will not provide recommendations anymore.\n",
    "(3) The recommendations are more accurate. (4) In addition, the scanned product is not in the list of recommendations anymore."
   ]
  }
 ],
 "metadata": {
  "kernelspec": {
   "display_name": "Python 3",
   "language": "python",
   "name": "python3"
  },
  "language_info": {
   "codemirror_mode": {
    "name": "ipython",
    "version": 3
   },
   "file_extension": ".py",
   "mimetype": "text/x-python",
   "name": "python",
   "nbconvert_exporter": "python",
   "pygments_lexer": "ipython3",
   "version": "3.8.5"
  }
 },
 "nbformat": 4,
 "nbformat_minor": 4
}
